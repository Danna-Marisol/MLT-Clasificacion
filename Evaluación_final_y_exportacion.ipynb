{
  "nbformat": 4,
  "nbformat_minor": 0,
  "metadata": {
    "colab": {
      "provenance": []
    },
    "kernelspec": {
      "name": "python3",
      "display_name": "Python 3"
    },
    "language_info": {
      "name": "python"
    }
  },
  "cells": [
    {
      "cell_type": "code",
      "execution_count": null,
      "metadata": {
        "id": "tn0E2pCkK_CG"
      },
      "outputs": [],
      "source": [
        "# Celda 1: Configuración de MLflow para Codespaces\n",
        "import os\n",
        "import socket\n",
        "from contextlib import closing\n",
        "import mlflow\n",
        "\n",
        "def find_free_port():\n",
        "    \"\"\"Encuentra un puerto disponible automáticamente\"\"\"\n",
        "    with closing(socket.socket(socket.AF_INET, socket.SOCK_STREAM)) as s:\n",
        "        s.bind(('', 0))\n",
        "        s.setsockopt(socket.SOL_SOCKET, socket.SO_REUSEADDR, 1)\n",
        "        return s.getsockname()[1]\n",
        "\n",
        "# Configurar MLflow\n",
        "mlflow_port = find_free_port()\n",
        "mlflow_dir = os.path.join(os.getcwd(), \"mlruns\")\n",
        "os.makedirs(mlflow_dir, exist_ok=True)\n",
        "\n",
        "# Iniciar MLflow UI en segundo plano\n",
        "mlflow.set_tracking_uri(f\"file:{mlflow_dir}\")\n",
        "get_ipython().system_raw(f\"mlflow ui --port {mlflow_port} --host 0.0.0.0 --serve-artifacts &\")\n",
        "\n",
        "# Mostrar URL de acceso\n",
        "print(f\"\\n MLflow UI disponible en: https://{os.getenv('CODESPACE_NAME')}-{mlflow_port}.{os.getenv('GITHUB_CODESPACES_PORT_FORWARDING_DOMAIN')}\\n\")\n",
        "\n",
        ""
      ]
    },
    {
      "cell_type": "code",
      "source": [
        "import pandas as pd\n",
        "import numpy as np\n",
        "# 2. Importar librerías\n",
        "import mlflow\n",
        "import mlflow.sklearn\n",
        "from sklearn.ensemble import RandomForestClassifier\n",
        "from sklearn.model_selection import train_test_split\n",
        "from sklearn.metrics import (accuracy_score, mean_absolute_error, precision_score, recall_score, f1_score, mean_squared_error, roc_curve,\n",
        "    confusion_matrix, ConfusionMatrixDisplay)\n",
        "\n",
        "from pyngrok import ngrok\n",
        "import pandas as pd\n",
        "\n",
        "import joblib\n",
        "import os\n",
        "import matplotlib.pyplot as plt\n",
        "#leer el data\n",
        "import os\n",
        "\n",
        "try:\n",
        "    diabetes_cleaned = pd.read_csv('data/diabetes_cleaned.csv')\n",
        "    print(\"Datos cargados correctamente\")\n",
        "except FileNotFoundError:\n",
        "    raise Exception(\"Error: Ejecuta primero el notebook de Análisis Exploratorio\")"
      ],
      "metadata": {
        "id": "ohI9nzqnO59j"
      },
      "execution_count": null,
      "outputs": []
    },
    {
      "cell_type": "code",
      "source": [
        "\n",
        "# 5. Dividir los datos\n",
        "X = diabetes_cleaned[['hbA1c_level', 'blood_glucose_level', 'age', 'bmi']]\n",
        "y = diabetes_cleaned['diabetes']\n",
        "X_train, X_test, y_train, y_test = train_test_split(X, y, test_size=0.2, random_state=42)\n",
        "\n",
        "#Iniciar un run y registrar todo\n",
        "with mlflow.start_run():\n",
        "    model = RandomForestClassifier(random_state=42)\n",
        "    model.fit(X_train, y_train)\n",
        "    y_pred = model.predict(X_test)\n",
        "\n",
        "#metricas\n",
        "    acc = accuracy_score(y_test, y_pred)\n",
        "    mae = mean_absolute_error(y_test, y_pred)\n",
        "    precision = precision_score(y_test, y_pred)\n",
        "    recall = recall_score(y_test, y_pred)\n",
        "    f1 = f1_score(y_test, y_pred)\n",
        "    mse = mean_squared_error(y_test, y_pred)\n",
        "    mlflow.log_metric(\"accuracy\", acc)\n",
        "    mlflow.log_metric(\"mae\", mae)\n",
        "    mlflow.log_param(\"random_state\", 42)\n",
        "\n",
        "    mlflow.log_metric(\"precision\", precision)\n",
        "    mlflow.log_metric(\"recall\", recall)\n",
        "    mlflow.log_metric(\"f1_score\", f1)\n",
        "    mlflow.log_metric(\"mse\", mse)\n",
        "\n",
        "\n",
        "    # Guardar modelo\n",
        "    model_path = \"modelo_rf.pkl\"\n",
        "    joblib.dump(model, model_path)\n",
        "    mlflow.log_artifact(model_path)\n",
        "\n",
        "    # Guardar dataset\n",
        "    diabetes_cleaned.to_csv(\"diabetes_logged.csv\", index=False)\n",
        "    mlflow.log_artifact(\"diabetes_logged.csv\")\n",
        "\n",
        "    # Curva ROC\n",
        "    y_prob = model.predict_proba(X_test)[:, 1]\n",
        "    fpr, tpr, _ = roc_curve(y_test, y_prob)\n",
        "    plt.figure()\n",
        "    plt.plot(fpr, tpr, label=\"ROC Curve\")\n",
        "    plt.xlabel(\"FPR\")\n",
        "    plt.ylabel(\"TPR\")\n",
        "    plt.title(\"Curva ROC\")\n",
        "    plt.legend()\n",
        "    plt.savefig(\"roc_curve.png\")\n",
        "    mlflow.log_artifact(\"roc_curve.png\")\n",
        "\n",
        "    # Matriz de confusión\n",
        "    cm = confusion_matrix(y_test, y_pred)\n",
        "    disp = ConfusionMatrixDisplay(cm)\n",
        "    disp.plot()\n",
        "    plt.title(\"Matriz de Confusión\")\n",
        "    plt.savefig(\"confusion_matrix.png\")\n",
        "    mlflow.log_artifact(\"confusion_matrix.png\")\n",
        "\n",
        "    # Guardar predicciones\n",
        "    pred_df = pd.DataFrame({\"y_test\": y_test, \"y_pred\": y_pred})\n",
        "    pred_df.to_csv(\"predicciones.csv\", index=False)\n",
        "    mlflow.log_artifact(\"predicciones.csv\")\n",
        "\n",
        "\n",
        "    mlflow.sklearn.log_model(model, \"modelo_random_forest\", input_example=X.iloc[:2])\n",
        "\n",
        "\n",
        "\n",
        "\n",
        "\n"
      ],
      "metadata": {
        "id": "dTT62sYllNQV"
      },
      "execution_count": null,
      "outputs": []
    },
    {
      "cell_type": "code",
      "execution_count": null,
      "metadata": {
        "id": "KFrP2J_-3Krc"
      },
      "outputs": [],
      "source": []
    }
  ]
}